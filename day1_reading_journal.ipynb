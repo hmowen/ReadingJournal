{
 "cells": [
  {
   "cell_type": "markdown",
   "metadata": {},
   "source": [
    "# Day 1 Reading Journal\n",
    "\n",
    "Hi everyone.  These are the exercises for the first set of readings from ThinkPython.  While this journal consists of several required exercises, it is meant to encourage active reading more generally.  You should use this journal to take detailed notes, catalog questions, and explore the content from ThinkPython deeply.\n",
    "\n",
    "For more information on using the Jupyter notebook, check out the documentation [here](http://nbviewer.jupyter.org/github/jupyter/notebook/blob/master/docs/source/examples/Notebook/Examples%20and%20Tutorials%20Index.ipynb).  Additionally, in order to write text in this document, you will be making use of markdown cells. A handy cheatsheet for markdown is available [here](https://github.com/adam-p/markdown-here/wiki/Markdown-Cheatsheet)."
   ]
  },
  {
   "cell_type": "markdown",
   "metadata": {},
   "source": [
    "## Chapter 1\n",
    "\n",
    "Note: the exercise numbers below match up with the reading for ease of cross referencing."
   ]
  },
  {
   "cell_type": "markdown",
   "metadata": {},
   "source": [
    "1.1 LANGUAGES\n",
    "    HIGH LEVEL LANGUAGE (C, C++, Java): language humans use to communicate w/ comp.\n",
    "    LOW LEVEL LANGUAGE (\"machine languages\"): language a computer uses\n",
    "    INTERPRETER: read hl program & interprets it step by step\n",
    "    source code --> interpreter --> output\n",
    "    COMPILER: reads program and translates before it runs\n",
    "    source code --> compiler --> object code --> executor --> output\n",
    "        (hl program called \"SOURCE CODE\", translated program called \"OBJECT CODE/ ECECUTABLE\")\n",
    "\n",
    "    python is an interpreted language (2 ways to use)\n",
    "    INTERACTIVE MODE: type & interp. displays (>>> called PROMPT)\n",
    "    SCRIPT MODE: store code in file to execute later (for python scripts end w/ .py)\n",
    "\n",
    "1.2 PROGRAM commonalities    \n",
    "     INPUT (keyboard)\n",
    "     OUTPUT (display)\n",
    "     MATH (basic operations)\n",
    "     CONDITIONAL EXECUTION (check for conditions to execute code)\n",
    "     REPETITION (perform action repeatedly w/ variation)\n",
    "\n",
    "1.3 DEBUGGING\n",
    "     SYNTAX ERROR: problem w/ structure of code ex. parentheses dont match\n",
    "     RUNTIME ERROR: problem happens after program runs\n",
    "     SEMANTIC ERROR: will run but do wrong thing\n",
    "\n",
    "1.4 TYPES OF LANGUAGE\n",
    "     FORMAL (math etc.) vs. NATURAL (spoken) languages\n",
    "     TOKENS (correct symbols) & PARSING (correct structure)\n",
    "     "
   ]
  },
  {
   "cell_type": "markdown",
   "metadata": {},
   "source": [
    "### Exercise 3\n",
    "\n",
    "Type `help()` to start the online help utility. Or you can type help('print') to get information about the print statement.  You should type `q` and then hit `enter` in the text box to exit the help utility. \n",
    "\n",
    "Note: this exercise is pretty simple (and there's not much to put in the box)!  We just want to make sure that you have tried out this super-handy feature of Python!"
   ]
  },
  {
   "cell_type": "code",
   "execution_count": null,
   "metadata": {
    "collapsed": false
   },
   "outputs": [
    {
     "name": "stdout",
     "output_type": "stream",
     "text": [
      "\n",
      "Welcome to Python 2.7!  This is the online help utility.\n",
      "\n",
      "If this is your first time using Python, you should definitely check out\n",
      "the tutorial on the Internet at http://docs.python.org/2.7/tutorial/.\n",
      "\n",
      "Enter the name of any module, keyword, or topic to get help on writing\n",
      "Python programs and using Python modules.  To quit this help utility and\n",
      "return to the interpreter, just type \"quit\".\n",
      "\n",
      "To get a list of available modules, keywords, or topics, type \"modules\",\n",
      "\"keywords\", or \"topics\".  Each module also comes with a one-line summary\n",
      "of what it does; to list the modules whose summaries contain a given word\n",
      "such as \"spam\", type \"modules spam\".\n",
      "\n"
     ]
    }
   ],
   "source": [
    "help()"
   ]
  },
  {
   "cell_type": "markdown",
   "metadata": {},
   "source": [
    "### Exercise 4  \n",
    "\n",
    "Start the Python interpreter and use it as a calculator. Python’s syntax for math operations is almost the same as standard mathematical notation. For example, the symbols +, - and / denote addition, subtraction and division, as you would expect. The symbol for multiplication is *.\n",
    "\n",
    "If you run a 10 kilometer race in 43 minutes 30 seconds, what is your average time per mile? What is your average speed in miles per hour? (Hint: there are 1.61 kilometers in a mile). "
   ]
  },
  {
   "cell_type": "code",
   "execution_count": 1,
   "metadata": {
    "collapsed": false
   },
   "outputs": [
    {
     "data": {
      "text/plain": [
       "7.003500000000001"
      ]
     },
     "execution_count": 1,
     "metadata": {},
     "output_type": "execute_result"
    }
   ],
   "source": [
    "43.5/(10/1.61)"
   ]
  },
  {
   "cell_type": "markdown",
   "metadata": {},
   "source": [
    "## Chapter 2"
   ]
  },
  {
   "cell_type": "markdown",
   "metadata": {},
   "source": [
    "2.1 Values and Types\n",
    "    VALUES(symbols) --> STRING(group of values 'hello world'), INTEGER(#), FLOATING POINT(decimals)\n",
    "\n",
    "2.2 Variables\n",
    "    ASSIGNMENT STATEMENT: gives variables new values\n",
    "    variable = value (in code)\n",
    "    variable --> value (on paper)\n",
    "    \n",
    "2.3 Variable Names/ Keywords\n",
    "    syntax: start with lowercase, use underscores to seperate muliple words\n",
    "    --> has to begin with a letter, cant be one of python's keywords\n",
    "    \n",
    "2.4 Operators/Operands\n",
    "    OPERATORS: rep. computations like add/subtr.\n",
    "    OPERANDS: values operators act on\n",
    "    (** is exponentiation)\n",
    "    python does floor division, chopping off fractions in a division of 2 integers, resulting in a rounding to nearest # --> to prevent, make one integer a floating-point number\n",
    "    \n",
    "2.5 Expressions\n",
    "    EXPRESSION: comb. of values/variables/operators\n",
    "    STATEMENT: unit of code that python can execute (ex. print, assignment)\n",
    "\n",
    "2.6 Interactive mode and script mode\n",
    "    in script mode, expression has no output unless you specifically tell to display value (print)\n",
    "\n",
    "2.7 Order of Op\n",
    "    RULES OF PRECEDENCE (PEMDAS) --> use parentheses to make it obvious\n",
    "\n",
    "2.8 String Operations\n",
    "    operators work on strings only to print combined strings (+), repeated strings (*)\n",
    "    \n",
    "2.9 Comments\n",
    "    # is symbol for comment\n",
    "    \n",
    "2.10 Debugging\n",
    "    common syntax errors: spaces btwn variable strings, illegal characters\n",
    "    runtime errors: \"use before def\" (use a var. before assign value)\n",
    "    semantic errors: order of ops"
   ]
  },
  {
   "cell_type": "markdown",
   "metadata": {},
   "source": [
    "### Exercise 2  \n",
    "\n",
    "Assume that we execute the following assignment statements:\n",
    "\n",
    "width = 17\n",
    "height = 12.0\n",
    "delimiter = '.'\n",
    "\n",
    "For each of the following expressions, write the value of the expression and the type (of the value of the expression).\n",
    "\n",
    "1. `width/2`\n",
    "2. `width/2.0`\n",
    "3. `height/3`\n",
    "4. `1 + 2 * 5`\n",
    "5. `delimiter * 5`\n",
    "\n",
    "Please use the following markdown cell to provide your answer."
   ]
  },
  {
   "cell_type": "markdown",
   "metadata": {},
   "source": [
    "1. 8, Value\n",
    "2. 8.5, Floating Point\n",
    "3. 4.0, Floating Point\n",
    "4. 11, Value\n",
    "5. ....., String"
   ]
  },
  {
   "cell_type": "markdown",
   "metadata": {},
   "source": [
    "### Exercise 3  \n",
    "\n",
    "Practice using the Python interpreter as a calculator.  For each of these provide Python code that computes each answer.\n",
    "\n",
    "    \n"
   ]
  },
  {
   "cell_type": "markdown",
   "metadata": {},
   "source": [
    "The volume of a sphere with radius r is 4/3 $\\pi r^3$. What is the volume of a sphere with radius 5? Hint: 392.7 is wrong!"
   ]
  },
  {
   "cell_type": "code",
   "execution_count": 1,
   "metadata": {
    "collapsed": false
   },
   "outputs": [
    {
     "name": "stdout",
     "output_type": "stream",
     "text": [
      "523.598775\n"
     ]
    }
   ],
   "source": [
    "radius = 5\n",
    "pi = 3.14159265\n",
    "volume = (4/3.0) * pi * (radius ** 3)\n",
    "print(volume)"
   ]
  },
  {
   "cell_type": "markdown",
   "metadata": {},
   "source": [
    "Suppose the cover price of a book is \\$24.95, but bookstores get a 40% discount. Shipping costs \\$3 for the first copy and 75 cents for each additional copy. What is the total wholesale cost for 60 copies?"
   ]
  },
  {
   "cell_type": "code",
   "execution_count": 2,
   "metadata": {
    "collapsed": false
   },
   "outputs": [
    {
     "name": "stdout",
     "output_type": "stream",
     "text": [
      "945.45\n"
     ]
    }
   ],
   "source": [
    "ws_cost = (24.95*60*0.6)+3+(.75*59)\n",
    "print(ws_cost)"
   ]
  },
  {
   "cell_type": "markdown",
   "metadata": {},
   "source": [
    "If I leave my house at 6:52 am and run 1 mile at an easy pace (8:15 per mile), then 3 miles at tempo (7:12 per mile) and 1 mile at easy pace again, what time do I get home for breakfast? "
   ]
  },
  {
   "cell_type": "code",
   "execution_count": 1,
   "metadata": {
    "collapsed": false
   },
   "outputs": [
    {
     "name": "stdout",
     "output_type": "stream",
     "text": [
      "7 : 30.1\n"
     ]
    }
   ],
   "source": [
    "total = (52 + (8 + 15/60.0)*2 + (7 + 12/60.0)*3)/60\n",
    "rounded = (52 + (8 + 15/60)*2 + (7 + 12/60)*3)/60\n",
    "remainder = total - (rounded)\n",
    "minutes = remainder * 60\n",
    "hours = rounded + 6\n",
    "\n",
    "print hours,\n",
    "print ':',\n",
    "print minutes\n",
    "\n"
   ]
  },
  {
   "cell_type": "markdown",
   "metadata": {},
   "source": [
    "## Chapter 3"
   ]
  },
  {
   "cell_type": "markdown",
   "metadata": {},
   "source": [
    "3.1 Function Calls\n",
    "  FUNCTION: sequence of statements that performs computations\n",
    "  FUNCTION CALL: call a func to work (ex. type())\n",
    "  ARGUMENT: expression in ()\n",
    "  RETURN VALUE: output of func\n",
    "\n",
    "3.2 Type Conversion Funcs\n",
    "  'int' func converts any value to an integer\n",
    "  'float' func converts any value to a floating point\n",
    "  'str' func converts argument to a string\n",
    "    \n",
    "3.3 Math Funcs\n",
    "  MODULE: file containing related funcs\n",
    "  --> must import module before use\n",
    "  ex.\n",
    "  import math\n",
    "  then to access the module specify module name and func name separated by dot (ex. math.sin(radians))\n",
    "  (math module takes trig funcs in radians)\n",
    "\n",
    "3.4 Composition\n",
    "  anywhere you can put a value you can put an expression (except on left side of assignment statement)\n",
    "  \n",
    "3.5 Adding New Functions\n",
    "  FUNCTION DEFINITION ('def' command): specifies name of new func and seq of statements to execute\n",
    "  func() --> if () are empty, func doesnt take any arguments\n",
    "  HEADER: first line\n",
    "  BODY: rest (indented 4 spaces)\n",
    "  to end enter an empty line (in interactive, not necessary in script)\n",
    "  definion func creates variable with same name\n",
    "\n",
    "3.6 Defs and Uses\n",
    "  must create func before use, can nest funcs in others\n",
    "\n",
    "3.8 Parameters and Arguments\n",
    "  PARAMETERS: arguments assigned to variables inside functions\n",
    "  func(variable expression)\n",
    "\n",
    "3.9 Variables and Parameters are Local\n",
    "  LOCAL VARIABLES: variables created inside functions\n",
    "  concatenation - combining them in sequence\n",
    "\n",
    "3.10 Stack Diagram\n",
    "  STACK DIAGRAM: show value of each variable, also the func each belongs to\n",
    "  FRAME: a box with the name of a func beside it and params and variables of func inside it\n",
    "  TRACEBACK: list of funcs indicating what program file error occured in, line, and func\n",
    "  \n",
    "3.11 Fruitful vs. Void Funcs\n",
    "  Funcs such as math yeild results (FRUITFUL) others like print_twice don't return a value (VOID)\n",
    "  for fruitful, display result\n",
    "\n",
    "3.12 Why Funcs?\n",
    "  opportunity to name a group of statements (easier to debug)\n",
    "  make program smaller by eliminating repetition\n",
    "  divide a long program into funcs (isolate & debug)\n",
    "  reusable\n",
    "  \n",
    "3.13 Importing with from\n",
    "  2 ways to import:\n",
    "  1st way, import entire module (see 3.3)\n",
    "  2nd way, import specific objects from module\n",
    "  '>>> from math import pi'\n",
    "  or use * operator to import everything from module\n",
    "  \n",
    "3.14 Debugging\n",
    "  use space effectively (no tabs)\n",
    "  save program\n",
    "  "
   ]
  },
  {
   "cell_type": "markdown",
   "metadata": {},
   "source": [
    "### Exercise 3\n",
    "\n",
    "Python provides a built-in function called len that returns the length of a string, so the value of len('allen') is 5.\n",
    "Write a function named right_justify that takes a string named s as a parameter and prints the string with enough leading spaces so that the last letter of the string is in column 70 of the display.\n",
    "\n",
    "```\n",
    ">>> right_justify('allen')\n",
    "                                                                 allen```"
   ]
  },
  {
   "cell_type": "code",
   "execution_count": 13,
   "metadata": {
    "collapsed": false
   },
   "outputs": [
    {
     "name": "stdout",
     "output_type": "stream",
     "text": [
      "                                                           hello, world\n"
     ]
    }
   ],
   "source": [
    "def right_justify(word):                     # define function\n",
    "    letter_count = len(word)                 # determine letter count of parameter string\n",
    "    print(' ' * (69 - letter_count)),        # determine & print number of spaces needed (70 minus length of string)\n",
    "    print word                               # concatenate spaces with parameter string\n",
    "    \n",
    "right_justify('hello, world')                # execute function"
   ]
  },
  {
   "cell_type": "markdown",
   "metadata": {},
   "source": [
    "### Exercise 5\n",
    "\n",
    "This exercise can be done using only the statements and other features we have learned so far.\n",
    "\n",
    "(a) Write a function that draws a grid like the following:\n",
    "```\n",
    "+ - - - - + - - - - +\n",
    "|         |         |\n",
    "|         |         |\n",
    "|         |         |\n",
    "|         |         |\n",
    "+ - - - - + - - - - +\n",
    "|         |         |\n",
    "|         |         |\n",
    "|         |         |\n",
    "|         |         |\n",
    "+ - - - - + - - - - +\n",
    "```\n",
    "**Hint:** to print more than one value on a line, you can print a comma-separated sequence:\n",
    "print '+', '-'\n",
    "If the sequence ends with a comma, Python leaves the line unfinished, so the value printed next appears on the same line.\n",
    "print '+', \n",
    "print '-'\n",
    "The output of these statements is '+ -'.\n",
    "A print statement all by itself ends the current line and goes to the next line."
   ]
  },
  {
   "cell_type": "code",
   "execution_count": 27,
   "metadata": {
    "collapsed": false
   },
   "outputs": [
    {
     "name": "stdout",
     "output_type": "stream",
     "text": [
      "+ - - - - + - - - -  +\n",
      "|         |          |\n",
      "|         |          |\n",
      "|         |          |\n",
      "|         |          |\n",
      "+ - - - - + - - - -  +\n",
      "|         |          |\n",
      "|         |          |\n",
      "|         |          |\n",
      "|         |          |\n",
      "+ - - - - + - - - -  +\n"
     ]
    }
   ],
   "source": [
    "def top_of_box(pattern):\n",
    "    print pattern * 2,\n",
    "    print '+'\n",
    "    \n",
    "def sides_of_box(wall):\n",
    "    print wall * 2,\n",
    "    print '|'\n",
    "    \n",
    "def individual_square():\n",
    "    top_of_box('+ - - - - ')\n",
    "    sides_of_box('|         ')\n",
    "    sides_of_box('|         ')\n",
    "    sides_of_box('|         ')\n",
    "    sides_of_box('|         ')\n",
    "    \n",
    "individual_square()\n",
    "individual_square()\n",
    "top_of_box('+ - - - - ')"
   ]
  },
  {
   "cell_type": "markdown",
   "metadata": {},
   "source": [
    "(b) Write a function that draws a similar grid with four rows and four columns."
   ]
  },
  {
   "cell_type": "code",
   "execution_count": 28,
   "metadata": {
    "collapsed": false
   },
   "outputs": [
    {
     "name": "stdout",
     "output_type": "stream",
     "text": [
      "+ - - - - + - - - - + - - - - + - - - -  +\n",
      "|         |         |         |          |\n",
      "|         |         |         |          |\n",
      "|         |         |         |          |\n",
      "|         |         |         |          |\n",
      "+ - - - - + - - - - + - - - - + - - - -  +\n",
      "|         |         |         |          |\n",
      "|         |         |         |          |\n",
      "|         |         |         |          |\n",
      "|         |         |         |          |\n",
      "+ - - - - + - - - - + - - - - + - - - -  +\n",
      "|         |         |         |          |\n",
      "|         |         |         |          |\n",
      "|         |         |         |          |\n",
      "|         |         |         |          |\n",
      "+ - - - - + - - - - + - - - - + - - - -  +\n",
      "|         |         |         |          |\n",
      "|         |         |         |          |\n",
      "|         |         |         |          |\n",
      "|         |         |         |          |\n",
      "+ - - - - + - - - - + - - - - + - - - -  +\n"
     ]
    }
   ],
   "source": [
    "def top_of_box(pattern):\n",
    "    print pattern * 4,\n",
    "    print '+'\n",
    "    \n",
    "def sides_of_box(wall):\n",
    "    print wall * 4,\n",
    "    print '|'\n",
    "    \n",
    "def individual_square():\n",
    "    top_of_box('+ - - - - ')\n",
    "    sides_of_box('|         ')\n",
    "    sides_of_box('|         ')\n",
    "    sides_of_box('|         ')\n",
    "    sides_of_box('|         ')\n",
    "    \n",
    "individual_square()\n",
    "individual_square()\n",
    "individual_square()\n",
    "individual_square()\n",
    "top_of_box('+ - - - - ')"
   ]
  },
  {
   "cell_type": "markdown",
   "metadata": {},
   "source": [
    "## Chapter 5.1 - 5.7"
   ]
  },
  {
   "cell_type": "markdown",
   "metadata": {},
   "source": [
    "1.5 Modulus Operator\n",
    "  MODULUS OPERATOR: works on integers and yeilds the remainder when the first operand is divided by the second (% symbol instead of /)\n",
    "  --> used to det. if numb is divisible by another or to print the right-most digits of a number\n",
    "\n",
    "5.2 Boolean Expressions\n",
    "  BOOLEAN EXPRESSION: expression that is either true or false (== symbol)\n",
    "  --> output is either True or False (not strings)\n",
    "  RELATIONAL OPERATOR: compares expressions\n",
    "  exs.\n",
    "  x != y               # x is not equal to y\n",
    "  x > y                # x is greater than y\n",
    "  x < y                # x is less than y\n",
    "  x >= y               # x is greater than or equal to y\n",
    "  x <= y               # x is less than or equal to \n",
    "  \n",
    "5.3 Logical Operators\n",
    "  LOGICAL OPERATORS (and, or, not): all conditions must be satisfied for it to be true or false\n",
    "\n",
    "5.4 Conditional Execution\n",
    "  CONDITIONAL STATEMENTS: statements that check conditions before performing a function\n",
    "  If STATEMENTS:\n",
    "  if x > 0:\n",
    "      print 'x is positive'\n",
    "  COMPOUND STATEMENTS: statements with the format of header followed by indented body\n",
    "  --> if you don't want a body, use the pass statement (does nothing)\n",
    "  \n",
    "5.5 Alternative Execution\n",
    "  ALTERNATIVE EXECUTION: 2nd form of if statement using if and else\n",
    "  if x%2 ==0:\n",
    "      print 'x is even'\n",
    "  else:\n",
    "      print 'x is odd'\n",
    "  alternatives are called BRANCHES (because they branch flow of execution)\n",
    "  \n",
    "5.6 Chained Conditionals\n",
    "  CHAINED CONDITIONALS: used to express more than two possibilities\n",
    "  if x < y:\n",
    "      print 'x is less than y'\n",
    "  elif x > y:\n",
    "      print 'x is greater than y'\n",
    "  else:\n",
    "      print 'x and y are equal'\n",
    "  ELIF (\"else if\"): creates another branch\n",
    "  (doesn't have to be an else clause at the end when using)\n",
    "  \n",
    "5.7 Nested Conditionals\n",
    "  if x == y:\n",
    "    print 'x and y are equal'\n",
    "  else:\n",
    "    if x < y:\n",
    "        print 'x is less than y'\n",
    "    else:\n",
    "        print 'x is greater than y'\n",
    "        \n",
    "  outer branch containes two choices, and one of those choices containes two more (3 branches total) gives obvious structure, but is hard to read"
   ]
  },
  {
   "cell_type": "markdown",
   "metadata": {},
   "source": [
    "### Exercise 3  \n",
    "\n",
    "Fermat’s Last Theorem says that there are no positive integers a, b, and c such that $a^n + b^n = c^n$ for any values of n greater than 2.\n",
    "\n",
    "(a) Write a function named `check_fermat` that takes four parameters—a, b, c and n—and that checks to see if Fermat’s theorem holds. If n is greater than 2 and it turns out to be true that\n",
    "$a^n + b^n = c^n$ the program should print, \"Holy smokes, Fermat was wrong!\" Otherwise the program should print, \"No, that doesn’t work.\""
   ]
  },
  {
   "cell_type": "code",
   "execution_count": 1,
   "metadata": {
    "collapsed": false
   },
   "outputs": [
    {
     "name": "stdout",
     "output_type": "stream",
     "text": [
      "Nope, it checks out\n"
     ]
    }
   ],
   "source": [
    "def check_fermat(a, b, c, n):\n",
    "    ab = a**n + b**n\n",
    "    cpower = c**n\n",
    "    if n > 2 and a > 0 and b > 0 and c > 0 and ab == cpower:\n",
    "        if True:\n",
    "            print 'Fermat was a lying weasel'\n",
    "    else:\n",
    "        print 'Nope, it checks out'\n",
    "            \n",
    "check_fermat(3, 5, 6, 4)"
   ]
  },
  {
   "cell_type": "markdown",
   "metadata": {},
   "source": [
    "(b) Write a function that prompts the user to input values for a, b, c and n, converts them to integers, and uses check_fermat to check whether they violate Fermat’s theorem."
   ]
  },
  {
   "cell_type": "code",
   "execution_count": 28,
   "metadata": {
    "collapsed": false
   },
   "outputs": [
    {
     "name": "stdout",
     "output_type": "stream",
     "text": [
      "enter four numbers\n",
      "1:4\n",
      "2:5\n",
      "3:2\n",
      "4:5\n",
      "Nope, it checks out\n"
     ]
    }
   ],
   "source": [
    "print 'enter four numbers'\n",
    "a = input('1:')\n",
    "b = input('2:')\n",
    "c = input('3:')\n",
    "n = input('4:')\n",
    "\n",
    "def check_fermat(a, b, c, n):\n",
    "    ab = a**n + b**n\n",
    "    cpower = c**n\n",
    "    if n > 2 and a > 0 and b > 0 and c > 0 and ab == cpower:\n",
    "        if True:\n",
    "            print 'Fermat was a lying weasel'\n",
    "    else:\n",
    "        print 'Nope, it checks out'\n",
    "                \n",
    "check_fermat(a, b, c, n)"
   ]
  },
  {
   "cell_type": "markdown",
   "metadata": {},
   "source": [
    "### Exercise 4  \n",
    "\n",
    "If you are given three sticks, you may or may not be able to arrange them in a triangle. For example, if one of the sticks is 12 inches long and the other two are one inch long, it is clear that you will not be able to get the short sticks to meet in the middle. For any three lengths, there is a simple test to see if it is possible to form a triangle:\n",
    "> If any of the three lengths is greater than the sum of the other two, then you cannot form a triangle. Otherwise, you can. (If the sum of two lengths equals the third, they form what is called a “degenerate” triangle.)\n",
    "\n",
    "(a) Write a function named `is_triangle` that takes three integers as arguments, and that prints either \"Yes\" or \"No,\" depending on whether you can or cannot form a triangle from sticks with the given lengths."
   ]
  },
  {
   "cell_type": "code",
   "execution_count": 11,
   "metadata": {
    "collapsed": false
   },
   "outputs": [
    {
     "name": "stdout",
     "output_type": "stream",
     "text": [
      "No\n"
     ]
    }
   ],
   "source": [
    "def is_triangle(a, b, c):\n",
    "    if a > b + c:\n",
    "        print 'No'\n",
    "    elif b > a + c:\n",
    "        print 'No'\n",
    "    elif c > b + a:\n",
    "        print 'No'\n",
    "    else:\n",
    "        print 'Yes'\n",
    "        \n",
    "        \n",
    "is_triangle(4, 6, 11)"
   ]
  },
  {
   "cell_type": "markdown",
   "metadata": {},
   "source": [
    "(b) Write a function that prompts the user to input three stick lengths, converts them to integers, and uses is_triangle to check whether sticks with the given lengths can form a triangle."
   ]
  },
  {
   "cell_type": "code",
   "execution_count": 1,
   "metadata": {
    "collapsed": false
   },
   "outputs": [
    {
     "name": "stdout",
     "output_type": "stream",
     "text": [
      "please enter a number:4\n",
      "please enter a 2nd number:6\n",
      "please enter a 3rd number:11\n",
      "No\n"
     ]
    }
   ],
   "source": [
    "a = input('please enter a number:')\n",
    "b = input('please enter a 2nd number:')\n",
    "c = input('please enter a 3rd number:')\n",
    "\n",
    "def is_triangle(a, b, c):\n",
    "    int(a)\n",
    "    int(b)\n",
    "    int(c)\n",
    "    if a > b + c:\n",
    "        print 'No'\n",
    "    elif b > a + c:\n",
    "        print 'No'\n",
    "    elif c > b + a:\n",
    "        print 'No'\n",
    "    else:\n",
    "        print 'Yes'\n",
    "    \n",
    "is_triangle(a, b, c)"
   ]
  },
  {
   "cell_type": "markdown",
   "metadata": {},
   "source": [
    "## Notes for the Instructors\n",
    "\n",
    "Please use the space below to write comments to help us plan the next class session.  For instance, if you want to see us go over an example of a particular type of problem, you can indicate that here.\n",
    "\n",
    "Please remember that the best way to get quick feedback from the instructors as well as your peers, is to use Piazza.  However, consider using this channel if it doesn't make sense to post your note to Piazza."
   ]
  },
  {
   "cell_type": "markdown",
   "metadata": {},
   "source": [
    "I love the journal style, I think it will be very helpful in holding me accountable for doing all of the work/learning I actually want to achieve!"
   ]
  }
 ],
 "metadata": {
  "kernelspec": {
   "display_name": "Python 2",
   "language": "python",
   "name": "python2"
  },
  "language_info": {
   "codemirror_mode": {
    "name": "ipython",
    "version": 2
   },
   "file_extension": ".py",
   "mimetype": "text/x-python",
   "name": "python",
   "nbconvert_exporter": "python",
   "pygments_lexer": "ipython2",
   "version": "2.7.6"
  }
 },
 "nbformat": 4,
 "nbformat_minor": 0
}
