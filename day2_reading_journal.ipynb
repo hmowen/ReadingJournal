{
 "cells": [
  {
   "cell_type": "markdown",
   "metadata": {},
   "source": [
    "# Day 2 Reading Journal\n",
    "\n",
    "This journal includes several required exercises, but it is meant to encourage active reading more generally.  You should use the journal to take detailed notes, catalog questions, and explore the content from Think Python deeply.\n",
    "\n",
    "Reading: Think Python Chapter 6.1-6.4, 7\n",
    "\n",
    "**Due: Thursday, January 28 at 12 noon**\n",
    "\n"
   ]
  },
  {
   "cell_type": "markdown",
   "metadata": {},
   "source": [
    "## [Chapter 6.1-6.4](http://www.greenteapress.com/thinkpython/html/thinkpython007.html)\n",
    "\n",
    "Note: the exercise numbers below match up with the reading for ease of cross referencing."
   ]
  },
  {
   "cell_type": "markdown",
   "metadata": {},
   "source": [
    "6.1 Return Values\n",
    "  Writing fruitful functions, use return command to do work\n",
    "  TEMPORARY VARIABLES: make debugging easier\n",
    "  there can also be multiple return statements, one on each branch of a conditional. --> code that comes after an executed return statement is called DEAD CODE\n",
    "  \n",
    "6.2 Incramental Development\n",
    "  INCRAMENTAL DEVELOPMENT: test small amounts of code at a time\n",
    "  SCAFFOLDING: used in step-based coding because it supports the program but is not part of the final code\n",
    "  How to implement this process:\n",
    "   1. start with a working program and make small incremental changes. At any point if there is an error, you should have a good idea where it is.\n",
    "   2. Use temporary variables to hold intermediate values so you can display and check them.\n",
    "   3. Once the program is working, you might want to consolidate multiple statements into a compound expression or remove some of the scaffolding, but only if it does not make the program too difficult to read.\n",
    "\n",
    "6.3 Composition\n",
    "  COMPOSITION: call one function from within another\n",
    "  \n",
    "6.4 Boolean Functions\n",
    "  protip: give boolean funcs names that sound like questions"
   ]
  },
  {
   "cell_type": "markdown",
   "metadata": {},
   "source": [
    "**Quick check:** What is a _fruitful function_?"
   ]
  },
  {
   "cell_type": "markdown",
   "metadata": {},
   "source": [
    "A fruitful function is one that returns the result of an expression."
   ]
  },
  {
   "cell_type": "markdown",
   "metadata": {},
   "source": [
    " "
   ]
  },
  {
   "cell_type": "markdown",
   "metadata": {},
   "source": [
    "### Exercise 1  \n",
    "Write a `compare` function that returns `1` if `x > y`, `0` if `x == y`, and `-1` if `x < y`."
   ]
  },
  {
   "cell_type": "code",
   "execution_count": 5,
   "metadata": {
    "collapsed": false
   },
   "outputs": [
    {
     "name": "stdout",
     "output_type": "stream",
     "text": [
      "enter number: 4.333\n",
      "enter 2nd number: 75\n"
     ]
    },
    {
     "data": {
      "text/plain": [
       "-1"
      ]
     },
     "execution_count": 5,
     "metadata": {},
     "output_type": "execute_result"
    }
   ],
   "source": [
    "x = input('enter number: ')\n",
    "y = input('enter 2nd number: ')\n",
    "\n",
    "def compare(x, y):\n",
    "    if x > y:\n",
    "        return 1\n",
    "    if x == y:\n",
    "        return 0\n",
    "    if x < y:\n",
    "        return -1\n",
    "\n",
    "compare(x, y)"
   ]
  },
  {
   "cell_type": "markdown",
   "metadata": {},
   "source": [
    "**Quick check:** Modify the `absolute_value` function so that it returns the correct result for all integer inputs."
   ]
  },
  {
   "cell_type": "code",
   "execution_count": 10,
   "metadata": {
    "collapsed": false
   },
   "outputs": [
    {
     "data": {
      "text/plain": [
       "5"
      ]
     },
     "execution_count": 10,
     "metadata": {},
     "output_type": "execute_result"
    }
   ],
   "source": [
    "def absolute_value(x):\n",
    "    if x < 0:\n",
    "        return -x\n",
    "    if x > 0:\n",
    "        return x\n",
    "    if x == 0:\n",
    "        return 0\n",
    "    \n",
    "absolute_value(-5)"
   ]
  },
  {
   "cell_type": "markdown",
   "metadata": {},
   "source": [
    "### Exercise 2  \n",
    "Use incremental development to write a function called `hypotenuse` that returns the length of the hypotenuse of a right triangle given the lengths of the two legs as arguments. Record each stage of the development process as you go, using as many cells as you need."
   ]
  },
  {
   "cell_type": "code",
   "execution_count": 22,
   "metadata": {
    "collapsed": false
   },
   "outputs": [
    {
     "name": "stdout",
     "output_type": "stream",
     "text": [
      "side a: 3\n",
      "side b: 4\n"
     ]
    },
    {
     "data": {
      "text/plain": [
       "5.0"
      ]
     },
     "execution_count": 22,
     "metadata": {},
     "output_type": "execute_result"
    }
   ],
   "source": [
    "import math\n",
    "\n",
    "a = input('side a: ')                 # input side a\n",
    "b = input('side b: ')                 # input side b\n",
    "\n",
    "# def hypotenuse():\n",
    "#     return 'hypotenuse'\n",
    "\n",
    "\n",
    "def hypotenuse(a, b):                 # define the function w/ inputs a, b\n",
    "    hypot = math.sqrt(a**2 + b**2)    # perform pythag theorem\n",
    "    return hypot                      # return side c\n",
    "\n",
    "hypotenuse(a, b)"
   ]
  },
  {
   "cell_type": "markdown",
   "metadata": {},
   "source": [
    "### Exercise 3  \n",
    "Write a function `is_between(x, y, z)` that returns `True` if `x ≤ y ≤ z` or `False` otherwise."
   ]
  },
  {
   "cell_type": "code",
   "execution_count": 14,
   "metadata": {
    "collapsed": false
   },
   "outputs": [
    {
     "name": "stdout",
     "output_type": "stream",
     "text": [
      "x: 5\n",
      "y: 19\n",
      "z: 100\n"
     ]
    },
    {
     "data": {
      "text/plain": [
       "True"
      ]
     },
     "execution_count": 14,
     "metadata": {},
     "output_type": "execute_result"
    }
   ],
   "source": [
    "x = input('x: ')\n",
    "y = input('y: ')\n",
    "z = input('z: ')\n",
    "\n",
    "def is_between(x, y, z):\n",
    "    if x <= y <= z:\n",
    "        return True\n",
    "    else:\n",
    "        return False\n",
    "    \n",
    "is_between(x, y, z)"
   ]
  },
  {
   "cell_type": "markdown",
   "metadata": {},
   "source": [
    "## [Chapter 7](http://www.greenteapress.com/thinkpython/html/thinkpython008.html)\n",
    "\n"
   ]
  },
  {
   "cell_type": "markdown",
   "metadata": {},
   "source": [
    "7.1 Multiple Assignment\n",
    "  MULTIPLE ASSIGNMENT: assign more than 1 value to a variable (it overrides the previous one)\n",
    "  EQUALITY vs ASSIGNMENT: equality is symmetric relation, ass. isn't, also equality is always either true or false, ass. changes.\n",
    "  \n",
    "7.2 Updating Variables\n",
    "  UPDATE: new value of variable depends on the old\n",
    "  INITIALIZE: a variable before you update\n",
    "  INCREMENT: update a variable by +1\n",
    "  DECREMENT: update a variable by -1\n",
    "  \n",
    "7.3 The WHILE Statement\n",
    "  ITERATION: using recursion to perform repetition\n",
    "     def countdown(n):\n",
    "        while n > 0:\n",
    "            print n\n",
    "            n = n-1\n",
    "        print 'Blastoff!'\n",
    "  WHILE statements: \"While variable is this way, do this, when it changes to this, do the other thing\n",
    "  Flow of Execution for While Statements:\n",
    "  1. Evaluate the condition, yeilding True or False\n",
    "  2. If the condition is false, exit the while statement and continue execution at next statement\n",
    "  3. If condition is true, execute the body and then go back to step 1    \n",
    "LOOP:the flow of while statements (stem 3 moves to step 1)\n",
    "INFINITE LOOP: body of the loop should change the value of 1+ variable, to eventually terminate the loop. Otherwise it is repeats forever\n",
    "\n",
    "7.4 Break\n",
    "  BREAK: jumps out of the loop\n",
    "  \n",
    "7.5 Square Roots\n",
    "  \n",
    "7.6 Algorithms\n",
    "  ALGORITHM; mechanical process for solving a category of problems\n",
    "  \n",
    "7.7 Debugging\n",
    "  \"debugging by bisection\" cut program in half, find a value you can print, move to bisecting top or bottom half depending on if it works\n",
    "  "
   ]
  },
  {
   "cell_type": "markdown",
   "metadata": {},
   "source": [
    "**Quick check:** How do you test for equality in Python?"
   ]
  },
  {
   "cell_type": "markdown",
   "metadata": {},
   "source": [
    " "
   ]
  },
  {
   "cell_type": "markdown",
   "metadata": {},
   "source": [
    "**Challenge:** Prove/disprove the Collatz conjecture :)"
   ]
  },
  {
   "cell_type": "markdown",
   "metadata": {},
   "source": [
    "### Exercise 2  \n",
    "Encapsulate the loop from Section 7.5 in a function called `square_root` that takes `a` as a parameter, chooses a reasonable value of `x`, and returns an estimate of the square root of `a`."
   ]
  },
  {
   "cell_type": "code",
   "execution_count": 5,
   "metadata": {
    "collapsed": false
   },
   "outputs": [
    {
     "name": "stdout",
     "output_type": "stream",
     "text": [
      "a: 5\n",
      "4.0\n",
      "2.625\n",
      "2.26488095238\n",
      "2.23625125149\n",
      "2.23606798501\n",
      "2.2360679775\n"
     ]
    }
   ],
   "source": [
    "a = input('a: ')\n",
    "\n",
    "def square_root(a):\n",
    "    a = float(a)\n",
    "    x = a-1\n",
    "    while True:\n",
    "        print x\n",
    "        y = (x + a/x) / 2\n",
    "        if y == x:\n",
    "            break\n",
    "        x = y\n",
    "\n",
    "square_root(a)"
   ]
  },
  {
   "cell_type": "markdown",
   "metadata": {},
   "source": [
    "### Exercise 3  \n",
    "To test the square root algorithm you developed in Exercise 2, you could compare it with Python's `math.sqrt` function. Write a function named `test_square_root` that prints a table like this:\n",
    "\n",
    "```python\n",
    "1.0 1.0           1.0           0.0\n",
    "2.0 1.41421356237 1.41421356237 2.22044604925e-16\n",
    "3.0 1.73205080757 1.73205080757 0.0\n",
    "4.0 2.0           2.0           0.0\n",
    "5.0 2.2360679775  2.2360679775  0.0\n",
    "6.0 2.44948974278 2.44948974278 0.0\n",
    "7.0 2.64575131106 2.64575131106 0.0\n",
    "8.0 2.82842712475 2.82842712475 4.4408920985e-16\n",
    "9.0 3.0           3.0           0.0\n",
    "```\n",
    "\n",
    "The first column is a number, `a`; the second column is the square root of a computed with the function from Section 7.5; the third column is the square root computed by `math.sqrt`; the fourth column is the absolute value of the difference between the two estimates."
   ]
  },
  {
   "cell_type": "code",
   "execution_count": 3,
   "metadata": {
    "collapsed": false
   },
   "outputs": [
    {
     "name": "stdout",
     "output_type": "stream",
     "text": [
      "3.0 1.73205080757 1.73205080757 0.0\n",
      "4.0 2.0 2.0 0.0\n",
      "5.0 2.2360679775 2.2360679775 0.0\n",
      "6.0 2.44948974278 2.44948974278 0.0\n",
      "7.0 2.64575131106 2.64575131106 0.0\n",
      "8.0 2.82842712475 2.82842712475 -4.4408920985e-16\n",
      "9.0 3.0 3.0 0.0\n",
      "10.0 3.16227766017 3.16227766017 -4.4408920985e-16\n"
     ]
    }
   ],
   "source": [
    "import math\n",
    "from tabulate import tabulate\n",
    "\n",
    "def square_root(a):\n",
    "    a = float(a)\n",
    "    x = a-1\n",
    "    while a <= 9:\n",
    "        a = a + 1\n",
    "        while True:\n",
    "            y = (x + a/x) / 2\n",
    "            if y == x:\n",
    "                print a, x, math.sqrt(a), x-math.sqrt(a)\n",
    "                break\n",
    "            x = y\n",
    "\n",
    "square_root(2)"
   ]
  },
  {
   "cell_type": "markdown",
   "metadata": {},
   "source": [
    "### Challenge: Exercise 5  (optional)\n",
    "The mathematician Srinivasa Ramanujan found an infinite series that can be used to generate a numerical approximation of\n",
    "$\\frac{1}{\\pi}$:\n",
    "\n",
    "$$\\frac{1}{\\pi} = \\frac{2 \\sqrt{2}}{9801} \\sum_{k=0}^{\\infty} \\frac{(4k)! (1103+26390k)}{(k!)^4 396^{4k}}$$\n",
    " \n",
    "Write a function called `estimate_pi` that uses this formula to compute and return an estimate of $\\pi$. It should use a `while` loop to compute terms of the summation until the last term is smaller than `1e-15` (which is Python notation for $10^{−15}$). You can check the result by comparing it to `math.pi`.\n",
    "\n",
    "[Possible solution](http://thinkpython.com/code/pi.py) (give the exercise a try before viewing the solution)"
   ]
  },
  {
   "cell_type": "code",
   "execution_count": null,
   "metadata": {
    "collapsed": true
   },
   "outputs": [],
   "source": []
  },
  {
   "cell_type": "markdown",
   "metadata": {},
   "source": [
    "## Reading Journal feedback\n",
    "\n",
    "Have any comments on this Reading Journal? Feel free to leave them below and we'll read them when you submit your journal entry. This could include suggestions to improve the exercises, topics you'd like to see covered in class next time, or other feedback.\n",
    "\n",
    "If you have Python questions or run into problems while completing the reading, you should post them to Piazza instead so you can get a quick response before your journal is submitted."
   ]
  },
  {
   "cell_type": "markdown",
   "metadata": {},
   "source": [
    " "
   ]
  }
 ],
 "metadata": {
  "kernelspec": {
   "display_name": "Python 2",
   "language": "python",
   "name": "python2"
  },
  "language_info": {
   "codemirror_mode": {
    "name": "ipython",
    "version": 2
   },
   "file_extension": ".py",
   "mimetype": "text/x-python",
   "name": "python",
   "nbconvert_exporter": "python",
   "pygments_lexer": "ipython2",
   "version": "2.7.6"
  }
 },
 "nbformat": 4,
 "nbformat_minor": 0
}
