{
 "cells": [
  {
   "cell_type": "markdown",
   "metadata": {},
   "source": [
    "# Day 4 Reading Journal\n",
    "\n",
    "This journal includes several required exercises, but it is meant to encourage active reading more generally.  You should use the journal to take detailed notes, catalog questions, and explore the content from Think Python deeply.\n",
    "\n",
    "Reading: Think Python Chapter 10\n",
    "\n",
    "**Due: Thursday, February 4 at 12 noon**\n",
    "\n"
   ]
  },
  {
   "cell_type": "markdown",
   "metadata": {},
   "source": [
    "## [Chapter 10](http://www.greenteapress.com/thinkpython/html/thinkpython011.html)\n",
    "\n",
    "You may want to review [state diagrams in Chapter 2](http://www.greenteapress.com/thinkpython/html/thinkpython003.html#toc13). [Python Tutor](http://pythontutor.com/) is also helpful for visualizing the state of your program.\n",
    "\n"
   ]
  },
  {
   "cell_type": "markdown",
   "metadata": {},
   "source": [
    "10.7 Map, Filter, Reduce\n",
    "to add up all default numbers in a list:\n",
    "def add_all(t):\n",
    "    total = 0\n",
    "    for x in t:\n",
    "        total += x\n",
    "    return total\n",
    "AUGMENTED ASSIGNMENT STATEMENT: += operator, updates variable (a += b --> a = a + b)\n",
    "ACCUMULATOR: variable that accumulates sum of elements\n",
    "---> built in function for this: \"sum\"\n",
    "REDUCE: operation that combines a sequence of elements into a single value\n",
    "\n",
    "10.8 Deleting Elements\n",
    "\"pop\": modifies and returns element that was removed (if no index, applies to last statement)\n",
    ">>> t = ['a', 'b', 'c']\n",
    ">>> x = t.pop(1)\n",
    ">>> print t\n",
    "['a', 'c']\n",
    ">>> print x\n",
    "b\n",
    "\n",
    "\"del\": same as pop, but doesn't return value\n",
    "\"remove\": removes any element indicated in () --> vs. indicating with an index\n",
    "\"del\" can also be used with a slice index\n",
    "\n",
    "10.9 Lists and Strings\n",
    "\"list\": converts a string to a list\n",
    "to break string into words use \"split\"\n",
    "--> takes an optional deliminator (in this case, none --> white space)\n",
    "\"join\": essentially reverses a split, given a deliminator (usually ' ')\n",
    "\n",
    "10.10 Objects and Values\n",
    "\"is\" operator: checks if two variables refer to same object (returns T/F)\n",
    "for strings, a usually = b, for lists, two are EQUIVALENT, but not IDENTICAL. \n",
    "\"object has a value\"\n",
    "\n",
    "10.11 Aliasing\n",
    "if a refers to object and you set b = a, then both refer to same object\n",
    "REFERENCE: association of variables w/ object\n",
    "ALIASED: when one object has multiple references\n",
    "---> changes in one variable affect the other\n",
    "\n",
    "10.12 List Arguments\n",
    "when feeding a list to a function, func gives list an alias\n",
    "** important to know what functions modify lists, and what functions create new ones**\n",
    "ex. def bad_delete_head(t):\n",
    "    t = t[1:]              # WRONG! (creates new list)\n",
    "    \n",
    "10.13 Debugging\n",
    "1. don't forget most list methods modify argument and return None. This is the opposite of the string methods, which return a new string and leave the original alone.\n",
    "if you are used to writing string code like this:\n",
    "word = word.strip()\n",
    "It is tempting to write list code like this:\n",
    "t = t.sort()   # Wrong!\n",
    "becasue sort returns none, the next operation you perform with t is likely to fail\n",
    "use documentation to check for this\n",
    "2. Pick an idiom and stick with it\n",
    "These are right:\n",
    "t.append(x)\n",
    "t = t + [x]\n",
    "\n",
    "And these are wrong:\n",
    "\n",
    "t.append([x])          # WRONG!\n",
    "t = t.append(x)        # WRONG!\n",
    "t + [x]                # WRONG!\n",
    "t = t + x              # WRONG!\n",
    "\n",
    "3. Make copies to avoid aliasing.\n",
    "if using mehtods like sort and you want to modify argument, but also keep original, make a copy:\n",
    "orig = t[:]\n",
    "t.sort()\n"
   ]
  },
  {
   "cell_type": "markdown",
   "metadata": {},
   "source": [
    "### Exercise 4  \n",
    "Write a function called `middle` that takes a list and returns a new list that contains all but the first and last elements. So `middle([1,2,3,4])` should return `[2,3]`."
   ]
  },
  {
   "cell_type": "code",
   "execution_count": 24,
   "metadata": {
    "collapsed": false
   },
   "outputs": [
    {
     "name": "stdout",
     "output_type": "stream",
     "text": [
      "[2, 3, 4, 5]\n"
     ]
    }
   ],
   "source": [
    "def middle(t):\n",
    "    return t[1:-1]             # returns list with elements 1 through second to last\n",
    "\n",
    "print middle([1, 2, 3, 4, 5, 6])"
   ]
  },
  {
   "cell_type": "markdown",
   "metadata": {},
   "source": [
    "### Exercise 5  \n",
    "Write a function called `chop` that takes a list, modifies it by removing the first and last elements, and returns `None`.\n",
    "\n",
    "What is the difference between `middle` and `chop`? Sketch out the program state or take a look at each in Python Tutor."
   ]
  },
  {
   "cell_type": "code",
   "execution_count": 25,
   "metadata": {
    "collapsed": false
   },
   "outputs": [],
   "source": [
    "def chop(t):\n",
    "    del t[:1]\n",
    "    del t[-1:]\n",
    "\n",
    "chop([1, 2, 3, 4, 5, 6])"
   ]
  },
  {
   "cell_type": "markdown",
   "metadata": {},
   "source": [
    "`middle` returns the augmented list\n",
    "`chop` returns None type because del is a method that has the value of none, it modifies the list, but it on it's own isn't an element"
   ]
  },
  {
   "cell_type": "markdown",
   "metadata": {},
   "source": [
    "### Exercise 7  \n",
    "Two words are anagrams if you can rearrange the letters from one to spell the other. Write a function called `is_anagram` that takes two strings and returns `True` if they are anagrams."
   ]
  },
  {
   "cell_type": "code",
   "execution_count": 32,
   "metadata": {
    "collapsed": false
   },
   "outputs": [
    {
     "data": {
      "text/plain": [
       "False"
      ]
     },
     "execution_count": 32,
     "metadata": {},
     "output_type": "execute_result"
    }
   ],
   "source": [
    "def is_anagram(a, b):\n",
    "    b = b[::-1]\n",
    "    if a in b:\n",
    "        return True\n",
    "    return False\n",
    "# FunFact: while palindrome is not itself a palindrome, it is infact an emordnilap (reverse of palindrome) which is a word that spelled backwards, is another word.\n",
    "is_anagram('palindrome', 'emordnilap')"
   ]
  },
  {
   "cell_type": "markdown",
   "metadata": {},
   "source": [
    "### Exercise 8  \n",
    "The (so-called) Birthday Paradox:\n",
    "1. Write a function called `has_duplicates` that takes a list and returns `True` if there is any element that appears more than once. It should not modify the original list.\n",
    "2. If there are 23 students in your class, what are the chances that two of you have the same birthday? You can estimate this probability by generating random samples of 23 birthdays and checking for matches. Hint: you can generate random birthdays with the randint function in the [random module](https://docs.python.org/2/library/random.html).\n",
    "\n",
    "You can read about this problem at http://en.wikipedia.org/wiki/Birthday_paradox, and you can download Allen's solution from http://thinkpython.com/code/birthday.py."
   ]
  },
  {
   "cell_type": "code",
   "execution_count": 59,
   "metadata": {
    "collapsed": false
   },
   "outputs": [
    {
     "data": {
      "text/plain": [
       "True"
      ]
     },
     "execution_count": 59,
     "metadata": {},
     "output_type": "execute_result"
    }
   ],
   "source": [
    "def has_duplicates(t):\n",
    "    i = 0\n",
    "    while i < len(t):\n",
    "        element = t[i]\n",
    "        if element in t[i+1:]:\n",
    "            return True\n",
    "        if element in t[:i]:\n",
    "            return True\n",
    "        i += 1\n",
    "    return False\n",
    "\n",
    "has_duplicates([1, 2, 3, 4, 1])"
   ]
  },
  {
   "cell_type": "code",
   "execution_count": 92,
   "metadata": {
    "collapsed": false
   },
   "outputs": [
    {
     "data": {
      "text/plain": [
       "0.514"
      ]
     },
     "execution_count": 92,
     "metadata": {},
     "output_type": "execute_result"
    }
   ],
   "source": [
    "from random import randint\n",
    "\n",
    "def randomizer(students):\n",
    "    r = []\n",
    "    for i in range(students):\n",
    "        next_random_number = random.randint(1, 365)\n",
    "        r.append(next_random_number)\n",
    "    return r\n",
    "\n",
    "def has_duplicates(t):\n",
    "    i = 0\n",
    "    while i < len(t):\n",
    "        element = t[i]\n",
    "        if element in t[i+1:]:\n",
    "            return True\n",
    "        if element in t[:i]:\n",
    "            return True\n",
    "        i += 1\n",
    "    return False\n",
    "\n",
    "def birthday_buddies(students, recursions):\n",
    "    count = 0\n",
    "    for i in range(recursions):\n",
    "        t = randomizer(students)\n",
    "        if has_duplicates(t):\n",
    "            count += 1\n",
    "    return count\n",
    "\n",
    "def probability(students, recursions):\n",
    "    matches = birthday_buddies(students, recursions)\n",
    "    prob = matches/float(recursions)\n",
    "    return prob\n",
    "    \n",
    "probability(23, 1000)"
   ]
  },
  {
   "cell_type": "markdown",
   "metadata": {},
   "source": [
    "### Challenge: Exercise 11 (optional)\n",
    "\n",
    "You should read [Chapter 9.1](http://www.greenteapress.com/thinkpython/html/thinkpython010.html) and do Exercise 1 first.\n",
    "\n",
    "To check whether a word is in the word list, you could use the `in` operator, but it would be relatively slow because it searches through the words in order (try it).\n",
    "\n",
    "Because the words are in alphabetical order, we can speed things up with a bisection search (also known as binary search), which is similar to what you do when you look a word up in the dictionary. You start in the middle and check to see whether the word you are looking for comes before the word in the middle of the list. If so, then you search the first half of the list the same way. Otherwise you search the second half.\n",
    "\n",
    "Either way, you cut the remaining search space in half. If the word list has 113,809 words, it will take about 17 steps to find the word or conclude that it’s not there.\n",
    "\n",
    "Write a function called `bisect` that takes a sorted list and a target value and returns the index of the value in the list, if it’s there, or `None` if it’s not.\n",
    "\n",
    "Or you could read the documentation of the `bisect` module and use that! Solution: http://thinkpython.com/code/inlist.py."
   ]
  },
  {
   "cell_type": "code",
   "execution_count": null,
   "metadata": {
    "collapsed": true
   },
   "outputs": [],
   "source": []
  },
  {
   "cell_type": "markdown",
   "metadata": {},
   "source": [
    "## Reading Journal feedback\n",
    "\n",
    "Have any comments on this Reading Journal? Feel free to leave them below and we'll read them when you submit your journal entry. This could include suggestions to improve the exercises, topics you'd like to see covered in class next time, or other feedback.\n",
    "\n",
    "If you have Python questions or run into problems while completing the reading, you should post them to Piazza instead so you can get a quick response before your journal is submitted."
   ]
  },
  {
   "cell_type": "markdown",
   "metadata": {},
   "source": [
    " "
   ]
  }
 ],
 "metadata": {
  "kernelspec": {
   "display_name": "Python 2",
   "language": "python",
   "name": "python2"
  },
  "language_info": {
   "codemirror_mode": {
    "name": "ipython",
    "version": 2
   },
   "file_extension": ".py",
   "mimetype": "text/x-python",
   "name": "python",
   "nbconvert_exporter": "python",
   "pygments_lexer": "ipython2",
   "version": "2.7.6"
  }
 },
 "nbformat": 4,
 "nbformat_minor": 0
}
